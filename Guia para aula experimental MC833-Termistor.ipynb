{
  "cells": [
    {
      "cell_type": "markdown",
      "metadata": {
        "id": "wk2Ji05rfyWz"
      },
      "source": [
        "# Guia para a aula experimental\n",
        "\n",
        "Nesse guia trataremos passo a passo a conexão de um dispositivo com a plataforma Konker.\n",
        "Para seguir esse roteiro, você precisará de uma conta na Konker, que pode ser criada em https://demo.konkerlabs.net/ e, caso deseje trabalhar com o kit disponibilizado para vocês, será necessário baixar a Arduino IDE e adicionar o suporte a placa de desenvolvimento **NodeMCU**, além de instalar as bibliotecas **PubSubClient** e **ArduinoJSON**, caso você esteja fazendo essa atividade em um PC pessoal. Nesse caso, um guia de instalação da placa pode ser visto na referência https://www.filipeflop.com/blog/programar-nodemcu-com-ide-arduino/ enquanto a instalação das bibliotecas pode ser feita sem dificuldades buscando pelo nome das mesmas na caixa aberta ao selecionar o menu **Sketch** -> **Incluir Biblioteca** -> **Gerenciar Bibliotecas**. \n",
        "\n",
        "**Se essa tarefa estiver sendo realizada dentro do laboratório da diciplina, não é necessário a instalação da IDE nem mesmo das bibliotecas.**"
      ]
    },
    {
      "cell_type": "markdown",
      "source": [
        "##**Importante:** para salvar esse guia você deve fazer login em uma conta do Google e clicar em *Arquivo* -> *Salvar uma cópia no Drive*. A entrega da atividade deve ser feita em PDF, logo, ao terminar de fazer a atividade e preencher suas respostas você pode imprimir esse guia diretamente para um arquivo PDF clicando em *Arquivo* -> *Imprimir* -> *Destino: Salvar como PDF*. \n",
        "##**Antes de imprimir em PDF, lembre-se de apagar suas credenciais da plataforma do texto**."
      ],
      "metadata": {
        "id": "eM2BqFta24pq"
      }
    },
    {
      "cell_type": "markdown",
      "metadata": {
        "id": "zCF-n-XJfyW4"
      },
      "source": [
        "Vamos iniciar nosso notebook chamando todas as bibliotecas que usaremos. Nessa etapa, nada precisa ser modificado."
      ]
    },
    {
      "cell_type": "code",
      "execution_count": null,
      "metadata": {
        "id": "qwDYCU29fyW4"
      },
      "outputs": [],
      "source": [
        "!pip install arrow bokeh paho.mqtt\n",
        "from oauthlib.oauth2 import BackendApplicationClient\n",
        "from requests_oauthlib import OAuth2Session\n",
        "import pprint\n",
        "import numpy as np\n",
        "import arrow\n",
        "import requests                                                                                                                                                                                 \n",
        "import json                                                                                                                                                                                     \n",
        "from threading import Timer"
      ]
    },
    {
      "cell_type": "markdown",
      "metadata": {
        "id": "k3FXRKjCfyW6"
      },
      "source": [
        "O próximo passo é definir os endereços que serão usados para consultar e enviar os dados. Nessa etapa ainda não é necessário fazer modificações."
      ]
    },
    {
      "cell_type": "code",
      "execution_count": null,
      "metadata": {
        "id": "b36dwxwYfyW6"
      },
      "outputs": [],
      "source": [
        "#Url de publicacao dos dados\n",
        "pub_url = 'https://data.demo.konkerlabs.net/pub/'\n",
        "#Url da API\n",
        "base_api = 'https://api.demo.konkerlabs.net'\n",
        "#Application padrão\n",
        "application = 'default'"
      ]
    },
    {
      "cell_type": "markdown",
      "metadata": {
        "id": "vf87ukZdfyW7"
      },
      "source": [
        "Agora vamos colocar em duas variáveis o seu usuário e senha da plataforma \n",
        "\n",
        "(seu email e senha que você criou quando abriu conta na plataforma):"
      ]
    },
    {
      "cell_type": "code",
      "execution_count": null,
      "metadata": {
        "id": "YMbwEgHjfyW7"
      },
      "outputs": [],
      "source": [
        "username = ''\n",
        "password = ''"
      ]
    },
    {
      "cell_type": "markdown",
      "metadata": {
        "id": "Aa3FMnnSfyW8"
      },
      "source": [
        "O próximo passo é criar o dispositivo dentro de sua conta na Konker. Você pode criar o dispositivo com o nome de sua preferência, lembre-se apenas de modificar nas função abaixo para o nome adequado. Caso queira usar o nome *termometro*, não é necessário alterar nada na próxima célula."
      ]
    },
    {
      "cell_type": "code",
      "execution_count": null,
      "metadata": {
        "id": "UShi-moZfyW8"
      },
      "outputs": [],
      "source": [
        "termometro_name = \"termometro\""
      ]
    },
    {
      "cell_type": "markdown",
      "metadata": {
        "id": "J3zMHHrYfyW9"
      },
      "source": [
        "## Usando o Kit de Hardware \n",
        "Esse é o momento de você baixar o código dos dispositivos disponível em nosso GitHub: https://github.com/KonkerLabs/arduino_examples. Você deve baixar o código **Termometro_MQTT**. Depois de baixar o código, abra o código do Termometro na Arduino IDE e mude os parâmetros de rede Wifi, canal de publicação (minha sugestão é usar *temperatura*) credenciais do dispositivo.\n",
        "\n",
        "![term](https://raw.githubusercontent.com/KonkerLabs/arduino_examples/master/Termometro_MQTT/term.jpg \"Termômetro\")\n",
        "\n",
        "Com o dispositivo montado, o próximo passo é compilar e gravar o Firmware. Lembre-se de mudar a board na Arduino IDE para **NodeMCU v1.0**.\n",
        "\n",
        "Caso tudo tenha dado certo até o momento, você começará a observar os dados sendo enviados para a plataforma. Entre na Guia de Devices e procure *Messages* do seu dispositivo termômetro. Você deve ver os dados de temperatura chegando."
      ]
    },
    {
      "cell_type": "markdown",
      "metadata": {
        "id": "RUBo9caLfyW-"
      },
      "source": [
        "**Aguarde ao menos 1 minuto registrando a temperatura ambiente. Após isso, segure o termistor com seus dedos fazendo a temperatura subir. Mantenha o termômetro aquecido com seus dedos por ao menos 30 segundos. Por último, deixe o dispositivo capturando novamente dados de temperatura ambiente enquanto roda o restante do notebook.**"
      ]
    },
    {
      "cell_type": "markdown",
      "source": [
        "## **Pergunta 1: Seguindo os passos descritos na célula acima (aguardar 1 minuto em temperatura ambiente e 30 segundos com o dedo no termistor), descreva a curva vista na aba \"Mensagens\" do dispositivo termômetro na plataforma.**"
      ],
      "metadata": {
        "id": "sI_Ivij6EEBV"
      }
    },
    {
      "cell_type": "markdown",
      "source": [
        "[Escreva sua resposta aqui]"
      ],
      "metadata": {
        "id": "y4F2Q53QEezq"
      }
    },
    {
      "cell_type": "markdown",
      "metadata": {
        "id": "w9cQD67YfyW-"
      },
      "source": [
        "## Usando a API da Konker para obter os dados e analisa-los localmente\n",
        "Para iniciar esse trabalho, vamos primeiro conectar na API da Konker. A API usa OAuth2, então primeiro vamos obter as credenciais."
      ]
    },
    {
      "cell_type": "code",
      "execution_count": null,
      "metadata": {
        "id": "u-tYcC_bfyW-"
      },
      "outputs": [],
      "source": [
        "client = BackendApplicationClient(client_id=username)\n",
        "oauth = OAuth2Session(client=client)\n",
        "token = oauth.fetch_token(token_url='{}/v1/oauth/token'.format(base_api),\n",
        "                                       client_id=username,\n",
        "                                       client_secret=password)"
      ]
    },
    {
      "cell_type": "markdown",
      "metadata": {
        "id": "c9fgrfJvfyW_"
      },
      "source": [
        "Ótimo! Agora nos podemos começar a usar a API. Caso você queira mais detalhes de sua utilização, pode encontrar documentação em: https://api.demo.konkerlabs.net .\n",
        "\n",
        "Vamos começar listando os dispositivos registrados no seu usuário."
      ]
    },
    {
      "cell_type": "code",
      "execution_count": null,
      "metadata": {
        "id": "dZg9TSctfyW_"
      },
      "outputs": [],
      "source": [
        "devices = oauth.get(\"https://api.demo.konkerlabs.net/v1/{}/devices/\".format(application)).json()['result']\n",
        "for dev in devices:\n",
        "    print(dev)"
      ]
    },
    {
      "cell_type": "markdown",
      "metadata": {
        "id": "T7ztjZzDfyXA"
      },
      "source": [
        "Vamos procurar pelo dispositivo Termometro na sua lista de dispositivos:"
      ]
    },
    {
      "cell_type": "code",
      "execution_count": null,
      "metadata": {
        "id": "U7asCCZJfyXA"
      },
      "outputs": [],
      "source": [
        "guid_term=\"\"\n",
        "for dev in devices:\n",
        "    if dev['name'] == termometro_name:\n",
        "        guid_term = dev['guid']\n",
        "\n",
        "print(\"O GUID do dispositivo Termômetro é: \"+ guid_term)"
      ]
    },
    {
      "cell_type": "markdown",
      "metadata": {
        "id": "Phv0GOurfyXA"
      },
      "source": [
        "Caso você consiga ver o GUID do dispositivo, significa que está tudo funcionando bem. Caso o GUID não apareça, revise o nome do dispositivo no Notebook e o nome escolhido na plataforma para garantir que eles possuem a mesma grafia."
      ]
    },
    {
      "cell_type": "markdown",
      "metadata": {
        "id": "5OdGS3nrfyXA"
      },
      "source": [
        "Agora vamos usar a API para pegar os dados enviados pelo dispositivo termômetro hoje. Caso você tenha escolhido outro canal para envio dos dados, por favor modifique a variável **canal** na próxima célula."
      ]
    },
    {
      "cell_type": "code",
      "execution_count": null,
      "metadata": {
        "id": "0RAyXqlrfyXB"
      },
      "outputs": [],
      "source": [
        "canal = 'temperatura'\n",
        "dt_start = arrow.utcnow().to('America/Sao_Paulo').floor('day')\n",
        "dt_start = dt_start.shift(days=-1)\n",
        "stats = oauth.get(\"https://api.demo.konkerlabs.net/v1/{}/incomingEvents?q=device:{} channel:{} timestamp:>{}&sort=oldest&limit=10000\".format(application,guid_term,canal,dt_start.isoformat())).json()['result']\n",
        "print(stats)"
      ]
    },
    {
      "cell_type": "markdown",
      "metadata": {
        "id": "VxDoKYnufyXB"
      },
      "source": [
        "Caso tudo tenha funcionado como esperado, você deve estar vendo seus dados de temperatura logo acima. Para facilitar a visualização e análise dos dados, podemos transformar em um formato tabular com o Pandas."
      ]
    },
    {
      "cell_type": "code",
      "execution_count": null,
      "metadata": {
        "id": "FC1U5FjqfyXB"
      },
      "outputs": [],
      "source": [
        "from pandas.io.json import json_normalize\n",
        "stats_df = json_normalize(stats).set_index('timestamp')\n",
        "stats_df = stats_df[3:]\n",
        "stats_df"
      ]
    },
    {
      "cell_type": "markdown",
      "metadata": {
        "id": "U_d0hXZCfyXB"
      },
      "source": [
        "Ótimo! Agora os dados estão em um formato mais fácil de ler. Mas podemos também fazer um gráfico bem simples!"
      ]
    },
    {
      "cell_type": "code",
      "execution_count": null,
      "metadata": {
        "id": "IZfZMtytfyXC"
      },
      "outputs": [],
      "source": [
        "%matplotlib inline\n",
        "import matplotlib.pyplot as plt\n",
        "plt.figure(figsize=(15,4))\n",
        "\n",
        "stats_df['payload.value'].plot();"
      ]
    },
    {
      "cell_type": "markdown",
      "metadata": {
        "id": "Qy-Yx2C3fyXC"
      },
      "source": [
        "Agora começa a parte final desse trabalho. Vamos rodar um algoritmo conhecido com KMeans de aprendizado não supervisionado tentando encontrar os dois clusters que melhor separam nosso dataset. Como você pode observar abaixo, estamos usando a biblioteca SKLearn do Python para isso."
      ]
    },
    {
      "cell_type": "code",
      "execution_count": null,
      "metadata": {
        "id": "hf6ROQ-9fyXC"
      },
      "outputs": [],
      "source": [
        "from sklearn.cluster import KMeans\n",
        "kmeans = KMeans(n_clusters=2)\n",
        "kmeans.fit(stats_df['payload.value'].values.reshape(-1, 1))"
      ]
    },
    {
      "cell_type": "markdown",
      "metadata": {
        "id": "4zODbA3nfyXC"
      },
      "source": [
        "Nós colocamos como condição a separação em 2 clusters. Vamos ver qual a previsão feita sobre os dados adquiridos:"
      ]
    },
    {
      "cell_type": "code",
      "execution_count": null,
      "metadata": {
        "id": "tH5uvZ_ofyXC"
      },
      "outputs": [],
      "source": [
        "predictions = kmeans.predict(stats_df['payload.value'].values.reshape(-1, 1))\n",
        "predictions"
      ]
    },
    {
      "cell_type": "markdown",
      "metadata": {
        "id": "jVMV_EEdfyXD"
      },
      "source": [
        "Vamos observar a temperatura média do primeiro cluster de dados (grupo 0):"
      ]
    },
    {
      "cell_type": "code",
      "execution_count": null,
      "metadata": {
        "id": "tqnPpUASfyXD"
      },
      "outputs": [],
      "source": [
        "print('Temperatura média do grupo 0: ' + str(stats_df.loc[predictions == 0]['payload.value'].mean()) + ' C')"
      ]
    },
    {
      "cell_type": "markdown",
      "source": [
        "##**Pergunta 2: O que representa o grupo 0 de temperaturas?**"
      ],
      "metadata": {
        "id": "a5Dm2PnRE3FF"
      }
    },
    {
      "cell_type": "markdown",
      "source": [
        "[Escreva sua resposta aqui]"
      ],
      "metadata": {
        "id": "kK8_5nTpFD6f"
      }
    },
    {
      "cell_type": "markdown",
      "metadata": {
        "id": "TSBUUb3SfyXD"
      },
      "source": [
        "E agora a temperatura média do segundo cluster (grupo 1):"
      ]
    },
    {
      "cell_type": "code",
      "execution_count": null,
      "metadata": {
        "id": "h6rCF20-fyXD"
      },
      "outputs": [],
      "source": [
        "print('Temperatura média do grupo 1: ' + str(stats_df.loc[predictions == 1]['payload.value'].mean()) + ' C')"
      ]
    },
    {
      "cell_type": "markdown",
      "source": [
        "##**Pergunta 3: O que representa o grupo 1 de temperaturas?**"
      ],
      "metadata": {
        "id": "TEGzeocFFHXS"
      }
    },
    {
      "cell_type": "markdown",
      "source": [
        "[Escreva sua resposta aqui]"
      ],
      "metadata": {
        "id": "zz63bHnVFJ5k"
      }
    },
    {
      "cell_type": "markdown",
      "metadata": {
        "id": "y7f8FxbrfyXD"
      },
      "source": [
        "Vamos ver agora como se comportam os dois clusters encontrados em um gráfico. \n",
        "\n",
        "Nota: Nessa segunda versão do Notebook estou usando a biblioteca Bokeh para tentar evitar o gargalo em processamento gerado pelo Matplotlib na sala de aula. Caso você ainda encontre problemas em gerar o gráfico, por favor me envie um email em luis@konkerlabs.com"
      ]
    },
    {
      "cell_type": "code",
      "execution_count": null,
      "metadata": {
        "id": "F0_TKGxVfyXD"
      },
      "outputs": [],
      "source": [
        "from bokeh.io import output_notebook, show\n",
        "from bokeh.plotting import figure\n",
        "import pandas as pd\n",
        "output_notebook()"
      ]
    },
    {
      "cell_type": "code",
      "execution_count": null,
      "metadata": {
        "id": "9R0Hpj24fyXE"
      },
      "outputs": [],
      "source": [
        "p = figure(plot_width=820, plot_height=400, x_axis_type=\"datetime\",\n",
        "           title=\"Clusters de temperatura encontrados pelo método KMeans\",\n",
        "           x_axis_label='Tempo', \n",
        "           y_axis_label='Temperatura [Celsius]')\n",
        "\n",
        "p.title.text_font_size = '18pt'\n",
        "p.xaxis.axis_label_text_font_size = \"14pt\"\n",
        "p.yaxis.axis_label_text_font_size = \"14pt\"\n",
        "\n",
        "x = np.array(pd.to_datetime(stats_df.index))\n",
        "y = np.array(stats_df['payload.value'])\n",
        "n_y = np.multiply(np.array(stats_df['payload.value']),predictions)\n",
        "n_y = np.clip(n_y,np.min(y),np.max(y))\n",
        "\n",
        "# add a line renderer\n",
        "p.line(x, y, line_width=2)\n",
        "p.patch(x,n_y,color=\"red\",alpha = 0.5,line_width=0)\n",
        "\n",
        "show(p) # show the results"
      ]
    },
    {
      "cell_type": "markdown",
      "source": [
        "##**Pergunta 4: Como você interpreta esse gráfico? Ele representa bem o experimento?**"
      ],
      "metadata": {
        "id": "yVaLqbzXFRXi"
      }
    },
    {
      "cell_type": "markdown",
      "source": [
        "[Escreva sua resposta aqui]"
      ],
      "metadata": {
        "id": "d7VFQ_DpFcR0"
      }
    },
    {
      "cell_type": "markdown",
      "metadata": {
        "id": "1g4Hs5EgfyXE"
      },
      "source": [
        "Observe que em momento algum você precisou escolher um threshold para a divisão entre os clusters de temperatura. Muito embora esses dados representem coisas muito bem conhecidas, elas poderiam representar situações de trabalho diferentes em uma máquina, por exemplo."
      ]
    },
    {
      "cell_type": "markdown",
      "metadata": {
        "id": "ZVOHgyuQfyXE"
      },
      "source": [
        "##**Pergunta 5: Quais as vantagens e desvantagens do uso de protocolos de comunicação de alto nível? (Dica: consegue estimar o tráfego de dados gerado pelos 43 dispositivos durante 1 hora de aula?)**"
      ]
    },
    {
      "cell_type": "markdown",
      "source": [
        "[Escreva sua resposta aqui]"
      ],
      "metadata": {
        "id": "nZ_3ew0FF52f"
      }
    },
    {
      "cell_type": "markdown",
      "source": [
        "##**Pergunta 6: Cite uma situação real na qual esse método testado poderia ser aplicado.**"
      ],
      "metadata": {
        "id": "Pg423T4bF9gQ"
      }
    },
    {
      "cell_type": "markdown",
      "source": [
        "[Escreva sua resposta aqui]"
      ],
      "metadata": {
        "id": "H09dHOOFF80Q"
      }
    },
    {
      "cell_type": "markdown",
      "source": [
        "##**Pergunta 7: O que é uma plataforma de IoT e o que você aprendeu com esse experimento?**"
      ],
      "metadata": {
        "id": "Ilu6l2i7F8ig"
      }
    },
    {
      "cell_type": "markdown",
      "source": [
        "[Escreva sua resposta aqui]"
      ],
      "metadata": {
        "id": "KwTYpeIOF8QA"
      }
    }
  ],
  "metadata": {
    "kernelspec": {
      "display_name": "Python 3",
      "language": "python",
      "name": "python3"
    },
    "language_info": {
      "codemirror_mode": {
        "name": "ipython",
        "version": 3
      },
      "file_extension": ".py",
      "mimetype": "text/x-python",
      "name": "python",
      "nbconvert_exporter": "python",
      "pygments_lexer": "ipython3",
      "version": "3.7.3"
    },
    "colab": {
      "name": " Guia para aula experimental - MC833 - Termistor.ipynb",
      "provenance": []
    }
  },
  "nbformat": 4,
  "nbformat_minor": 0
}