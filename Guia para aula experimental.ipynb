{
 "cells": [
  {
   "cell_type": "markdown",
   "metadata": {},
   "source": [
    "# Guia para a aula experimental\n",
    "\n",
    "Nesse guia trataremos passo a passo a conexão de um dispositivo com a plataforma Konker.\n",
    "Para seguir esse roteiro, você precisará de uma conta na Konker, que pode ser criada em https://demo.konkerlabs.net/ e, caso deseje trabalhar com o kit disponibilizado para vocês, será necessário baixar a Arduino IDE e adicionar o suporte a placa de desenvolvimento **NodeMCU**, além de instalar as bibliotecas **PubSubClient** e **ArduinoJSON**. Um guia de instalação da placa pode ser visto na referência https://www.filipeflop.com/blog/programar-nodemcu-com-ide-arduino/ enquanto a instalação das bibliotecas pode ser feita sem dificuldades buscando pelo nome das mesmas na caixa aberta ao selecionar o menu **Sketch** -> **Incluir Biblioteca** -> **Gerenciar Bibliotecas**.\n",
    "\n",
    "Caso você não tenha participado da aula e, em casa, prefira trabalhar com dispositivos virtuais, não será necessária a instalação da Arduino IDE e todo o procedimento pode ser feito diretamente nesse notebook jupyter. \n",
    "\n",
    "**Independente da sua escolha, por favor siga o procedimento do notebook e lembre-se de salvar suas alterações (o atalho Ctrl+s funciona), pois sua avaliação será feita com base nele.**"
   ]
  },
  {
   "cell_type": "markdown",
   "metadata": {},
   "source": [
    "Vamos iniciar nosso notebook chamando todas as bibliotecas que usaremos. Nessa etapa, nada precisa ser modificado."
   ]
  },
  {
   "cell_type": "code",
   "execution_count": null,
   "metadata": {},
   "outputs": [],
   "source": [
    "from oauthlib.oauth2 import BackendApplicationClient\n",
    "from requests_oauthlib import OAuth2Session\n",
    "import pprint\n",
    "import numpy as np\n",
    "import arrow\n",
    "import requests                                                                                                                                                                                 \n",
    "import json                                                                                                                                                                                     \n",
    "from threading import Timer"
   ]
  },
  {
   "cell_type": "markdown",
   "metadata": {},
   "source": [
    "O próximo passo é definir os endereços que serão usados para consultar e enviar os dados. Nessa etapa ainda não é necessário fazer modificações."
   ]
  },
  {
   "cell_type": "code",
   "execution_count": null,
   "metadata": {},
   "outputs": [],
   "source": [
    "#Url de publicacao dos dados\n",
    "pub_url = 'https://data.demo.konkerlabs.net/pub/'\n",
    "#Url da API\n",
    "base_api = 'https://api.demo.konkerlabs.net'\n",
    "#Application padrão\n",
    "application = 'default'"
   ]
  },
  {
   "cell_type": "markdown",
   "metadata": {},
   "source": [
    "Agora vamos colocar em duas variáveis o seu usuário e senha da plataforma:"
   ]
  },
  {
   "cell_type": "code",
   "execution_count": null,
   "metadata": {},
   "outputs": [],
   "source": [
    "username = ''\n",
    "password = ''"
   ]
  },
  {
   "cell_type": "markdown",
   "metadata": {},
   "source": [
    "O próximo passo é criar 3 dispositivos dentro de sua conta na Konker. Um deles será o dispositivo **LED**, outro será o **Termometro** e o último eu chamarei de **Machine_Learning**, que será um dispositivo virtual que tomará decisões baseadas em Aprendizado de Máquina. Você pode criar os dispositivos com o nome de sua preferência, lembre-se apenas de modificar nas funções abaixo para o nome adequado.\n",
    "Quando você criar o dispositivo, clique em **Connect** -> **Generate Password** e coloque as credenciais de ambos os dispositivos nas variáveis abaixo:"
   ]
  },
  {
   "cell_type": "code",
   "execution_count": null,
   "metadata": {},
   "outputs": [],
   "source": [
    "led_name = \"led\"\n",
    "led_username = \"\"\n",
    "led_password = \"\"\n",
    "\n",
    "termometro_name = \"termometro\"\n",
    "termometro_username = \"\"\n",
    "termometro_password = \"\"\n",
    "\n",
    "ML_name = \"Machine_Learning\"\n",
    "ML_username = \"\"\n",
    "ML_password = \"\""
   ]
  },
  {
   "cell_type": "markdown",
   "metadata": {},
   "source": [
    "Nesse momento, precisaremos fazer uma divisão no procedimento: caso você esteja fazendo essa aula com o kit de hardware, siga os procedimentos sob o título **Usando o Kit de Hardware** e caso você esteja fora da aula fazendo o procedimento simulado, siga o procedimento **Usando dispositivos simulados**."
   ]
  },
  {
   "cell_type": "markdown",
   "metadata": {},
   "source": [
    "## Usando o Kit de Hardware\n",
    "Esse é o momento de você baixar o código dos dispositivos disponível em nosso GitHub: https://github.com/KonkerLabs/arduino_examples. Você deve baixar o código do **LED_Device_MQTT** e **Termometro_MQTT**. Depois de baixar o código, abra primeiramente o código do Termometro na Arduino IDE e mude os parâmetros de rede Wifi, canal de publicação (minha sugestão é usar *temperatura*) credenciais do dispositivo. Dica: você acabou de escrever essas credenciais nas variáveis acima como \"cola\" para esse momento, pois elas não serão usadas no notebook :-).\n",
    "\n",
    "Agora é hora de montar o seu termômetro!\n",
    "Basta seguir a ilustração abaixo:\n",
    "![term](https://raw.githubusercontent.com/KonkerLabs/arduino_examples/master/Termometro_MQTT/term.jpg \"Termômetro\")\n",
    "\n",
    "Com o dispositivo montado, o próximo passo é compilar e gravar o Firmware. Lembre-se de mudar a board na Arduino IDE para **NodeMCU v1.0**.\n",
    "\n",
    "Caso tudo tenha dado certo até o momento, você começará a observar os dados sendo enviados para a plataforma. Entre na Guia de Devices e procure Messages do seu dispositivo termômetro. Você deve ver os dados de temperatura chegando então vamos fazer o primeiro experimento do dia."
   ]
  },
  {
   "cell_type": "markdown",
   "metadata": {},
   "source": [
    "**Escreva abaixo a temperatura que seu termômetro está medindo no ambiente (observada na plataforma):**"
   ]
  },
  {
   "cell_type": "markdown",
   "metadata": {},
   "source": [
    " "
   ]
  },
  {
   "cell_type": "markdown",
   "metadata": {},
   "source": [
    "**Segure o termistor com seus dedos até a temperatura estabilizar. Escreva abaixo a temperatura que está sendo medida na sua mão:**"
   ]
  },
  {
   "cell_type": "markdown",
   "metadata": {},
   "source": [
    " "
   ]
  },
  {
   "cell_type": "markdown",
   "metadata": {},
   "source": [
    "Agora vamos trabalhar com rotas entre dois dispositivos. Para tornar essa atividade mais interativa, escolha uma dupla na sala de aula. Um de vocês precisará montar agora o dispositivo LED. Vocês receberam 2 protoboards para ter a opção de montar os dois dispositivos ao mesmo tempo: basta colocar cada protoboard em um dos lados do NodeMCU.\n",
    "\n",
    "O dispositivo LED deve ser montado seguindo o diagrama abaixo:\n",
    "\n",
    "![term](https://raw.githubusercontent.com/KonkerLabs/arduino_examples/master/LED_Device_MQTT/leds.jpg \"Termômetro\")\n",
    "\n",
    "O próximo passo é conectar o dispositivo na plataforma usando as credenciais do dispositivo LED (use a cola acima), o canal que ele irá subscrever (minha sugestão é usar *led*) e criar uma rota entre os dispositivos termômetro e LED. Para isso entre na aba **Event Routes** e clique em **New** do lado direito superior.\n",
    "\n",
    "A rota pode ser criada com o número de sua preferência, lembrando apenas de colocar o **Income Device** como o seu dispositivo termômetro e o seu **Outgoing Device** como seu dispositivo LED. Caso você tenha usado o canal de envio **temperatura** esse será o seu **Income Channel** da mesma forma que caso seu dispositivo LED esteja subscrevendo no canal **led**, esse será o seu **Outgoing Channel**.\n",
    "\n",
    "Caso tudo tenha funcionado, você deve estar vendo as mensagens do termômetro chegarem no dispositivo LED."
   ]
  },
  {
   "cell_type": "markdown",
   "metadata": {},
   "source": [
    "**Escreva abaixo qual o resultado observado lendo a porta serial do dispositivo LED**"
   ]
  },
  {
   "cell_type": "markdown",
   "metadata": {},
   "source": [
    "----> Escreva nessa célula <----"
   ]
  },
  {
   "cell_type": "markdown",
   "metadata": {},
   "source": [
    "**Escreva abaixo quantos LEDs estão acesos na temperatura ambiente**"
   ]
  },
  {
   "cell_type": "markdown",
   "metadata": {},
   "source": [
    "----> Escreva nessa célula <----"
   ]
  },
  {
   "cell_type": "markdown",
   "metadata": {},
   "source": [
    "**Qual o threshold você precisaria colocar para acender um LED na temperatura ambiente e 2 LEDs com sua mão no termistor?**"
   ]
  },
  {
   "cell_type": "markdown",
   "metadata": {},
   "source": [
    "----> Escreva nessa célula <----"
   ]
  },
  {
   "cell_type": "markdown",
   "metadata": {},
   "source": [
    "Bem interessante, mas como você pode ver, uma abordagem assim tem um problema fundamental: ela só funciona quando você conhece quais as temperaturas que você está discriminando, nesse caso ambiente versus temperatura do corpo humano. Caso o problema fosse sobre coisas desconhecidas, como discriminar entre a temperatura normal de trabalho de uma turbina CFM56-3B-1 e dela superaquecida, essa técnica não funcionaria. Para isso temos técnicas de separação que podem aprender de forma não supervisionada com o seu dataset, como a técnica de KMeans que mostraremos no decorrer do notebook."
   ]
  },
  {
   "cell_type": "markdown",
   "metadata": {},
   "source": [
    "## Usando dispositivos simulados\n",
    "Caso você tenha feito a parte acima com o dispositivo real, pode ignorar essa seção e ir diretamente para **Usando a API**.\n",
    "\n",
    "Vamos iniciar a parte dos dispositivos virtuais importando as bibliotecas que iremos utilizar."
   ]
  },
  {
   "cell_type": "code",
   "execution_count": null,
   "metadata": {},
   "outputs": [],
   "source": [
    "import paho.mqtt.client as mqtt\n",
    "import random\n",
    "import time"
   ]
  },
  {
   "cell_type": "markdown",
   "metadata": {},
   "source": [
    "Da mesma forma que fizemos com os dispositivos reais, vamos utilizar MQTT para o enviar os dados de nosso dispositivo virtual para a plataforma. Vamos iniciar o trabalho simulando um termômetro enviando dados por 75 segundos, nos quais 50 são com temperatura ambiente e 25 com uma temperatura compatível com o corpo humano. Abaixo estão as funções que usaremos para isso."
   ]
  },
  {
   "cell_type": "code",
   "execution_count": null,
   "metadata": {},
   "outputs": [],
   "source": [
    "def on_connect(mqttc, a, userdata, rc):\n",
    "    global termometro_username\n",
    "    print(\"Connected with result code \"+str(rc))\n",
    "    mqttc.subscribe(\"sub/\" + led_username + \"/led\")\n",
    "       \n",
    "def on_message(mqttc, userdata, msg):\n",
    "    json_data = msg.payload.decode('utf-8')\n",
    "    temperature = json.loads(json_data)['value']\n",
    "    print(float(temperature))\n",
    "    if (float(temperature)>30.0):\n",
    "        print('Mensagem recebida! Estado dos LEDS virtuais = [1,1,1]')\n",
    "    elif (float(temperature)>20.0):\n",
    "        print('Mensagem recebida! Estado dos LEDS virtuais = [1,1,0]')\n",
    "    elif (float(temperature)>10.0):\n",
    "        print('Mensagem recebida! Estado dos LEDS virtuais = [1,0,0]')\n",
    "    else:\n",
    "        print('Mensagem recebida! Estado dos LEDS virtuais = [0,0,0]')\n",
    "    \n",
    "def publicar_temperatura(mqttc_term):\n",
    "    for i in range(0,25):\n",
    "        mqttc_term.publish(\"pub/\" + termometro_username + \"/temperatura\", json.dumps({\"deviceId\":\"My_favorite_thermometer\", \"metric\": \"Celsius\", \"value\": float(\"{0:.2f}\".format(random.gauss(25,0.5)))}))\n",
    "        time.sleep(1)\n",
    "    for i in range(0,25):\n",
    "        mqttc_term.publish(\"pub/\" + termometro_username + \"/temperatura\", json.dumps({\"deviceId\":\"My_favorite_thermometer\", \"metric\": \"Celsius\", \"value\": float(\"{0:.2f}\".format(random.gauss(32,0.5)))}))\n",
    "        time.sleep(1)\n",
    "    for i in range(0,25):\n",
    "        mqttc_term.publish(\"pub/\" + termometro_username + \"/temperatura\", json.dumps({\"deviceId\":\"My_favorite_thermometer\", \"metric\": \"Celsius\", \"value\": float(\"{0:.2f}\".format(random.gauss(25,0.5)))}))\n",
    "        time.sleep(1)\n"
   ]
  },
  {
   "cell_type": "markdown",
   "metadata": {},
   "source": [
    "Vamos agora conectar nosso dispositivo virtual na plataforma:"
   ]
  },
  {
   "cell_type": "code",
   "execution_count": null,
   "metadata": {},
   "outputs": [],
   "source": [
    "mqttc_term = mqtt.Client(termometro_username)\n",
    "mqttc_term.username_pw_set(termometro_username, termometro_password)\n",
    "mqttc_term.connect(\"mqtt.demo.konkerlabs.net\", 1883)\n",
    "mqttc_term.loop_start()"
   ]
  },
  {
   "cell_type": "markdown",
   "metadata": {},
   "source": [
    "Por ultimo vamos ativar o device virtual. Se tudo estiver correto, ao rodar a próxima célula, você começará a receber dados na plataforma."
   ]
  },
  {
   "cell_type": "code",
   "execution_count": null,
   "metadata": {},
   "outputs": [],
   "source": [
    "publicar_temperatura(mqttc_term)"
   ]
  },
  {
   "cell_type": "markdown",
   "metadata": {},
   "source": [
    "**Escreva abaixo a temperatura que seu termômetro virtual está medindo como \"ambiente\" (observando na plataforma):**"
   ]
  },
  {
   "cell_type": "markdown",
   "metadata": {},
   "source": [
    "----> Escreva nessa célula <----"
   ]
  },
  {
   "cell_type": "markdown",
   "metadata": {},
   "source": [
    "**Escreva abaixo a temperatura que está sendo medida como \"corpo humano\":**"
   ]
  },
  {
   "cell_type": "markdown",
   "metadata": {},
   "source": [
    "----> Escreva nessa célula <----"
   ]
  },
  {
   "cell_type": "markdown",
   "metadata": {},
   "source": [
    "Agora vamos trabalhar com rotas entre dois dispositivos virtuais. Vamos criar um dispositivo virtual que fará subscrição na plataforma como dispositivo LED e imprimirá as mensagens recebidas por ele na tela"
   ]
  },
  {
   "cell_type": "code",
   "execution_count": null,
   "metadata": {},
   "outputs": [],
   "source": [
    "mqttc_led = mqtt.Client(led_username)\n",
    "mqttc_led.username_pw_set(led_username, led_password)\n",
    "mqttc_led.on_message = on_message\n",
    "mqttc_led.on_connect = on_connect\n",
    "mqttc_led.connect(\"mqtt.demo.konkerlabs.net\", 1883)\n",
    "mqttc_led.loop_start()"
   ]
  },
  {
   "cell_type": "markdown",
   "metadata": {},
   "source": [
    "O próximo passo é criar uma rota entre os dispositivos termômetro e LED. Para isso entre na aba **Event Routes** e clique em **New** do lado direito superior.\n",
    "\n",
    "A rota pode ser criada com o nome de sua preferência, lembrando apenas de colocar o **Income Device** como o seu dispositivo termômetro e o seu **Outgoing Device** como seu dispositivo LED. Caso você tenha usado o canal de envio **temperatura** esse será o seu **Income Channel** da mesma forma que caso seu dispositivo LED esteja subscrevendo no canal **led**, esse será o seu **Outgoing Channel**. Esses são os canais que definimos nas funções acima, de forma que caso você não tenha modificado as funções, esses serão os canais que devem ser utilizados na plataforma.\n",
    "\n",
    "Caso tudo tenha funcionado corretamente, uma vez que rodemos o termômetro virtual, os dados relativos ao estado dos LEDs virtuais devem ser impressos na tela. Vamos testar?"
   ]
  },
  {
   "cell_type": "code",
   "execution_count": null,
   "metadata": {},
   "outputs": [],
   "source": [
    "publicar_temperatura(mqttc_term)"
   ]
  },
  {
   "cell_type": "markdown",
   "metadata": {},
   "source": [
    "**Escreva abaixo quantos LEDs virtuais estão acesos (com valor 1) na temperatura ambiente virtual**"
   ]
  },
  {
   "cell_type": "markdown",
   "metadata": {},
   "source": [
    "----> Escreva nessa célula <----"
   ]
  },
  {
   "cell_type": "markdown",
   "metadata": {},
   "source": [
    "**Escreva abaixo quantos LEDs virtuais estão acesos (com valor 1) na temperatura do corpo humano virtual**"
   ]
  },
  {
   "cell_type": "markdown",
   "metadata": {},
   "source": [
    "----> Escreva nessa célula <---- "
   ]
  },
  {
   "cell_type": "markdown",
   "metadata": {},
   "source": [
    "Agora vamos passar para o uso da API e da aplicação da técnica de Machine Learning nos dados."
   ]
  },
  {
   "cell_type": "markdown",
   "metadata": {},
   "source": [
    "## Usando a API\n",
    "Para iniciar esse trabalho, vamos primeiro conectar na API da Konker. A API usa OAuth2, então primeiro vamos obter as credenciais."
   ]
  },
  {
   "cell_type": "code",
   "execution_count": null,
   "metadata": {},
   "outputs": [],
   "source": [
    "client = BackendApplicationClient(client_id=username)\n",
    "oauth = OAuth2Session(client=client)\n",
    "token = oauth.fetch_token(token_url='{}/v1/oauth/token'.format(base_api),\n",
    "                                       client_id=username,\n",
    "                                       client_secret=password)"
   ]
  },
  {
   "cell_type": "markdown",
   "metadata": {},
   "source": [
    "Ótimo! Agora nos podemos começar a usar a API. Caso você queira mais detalhes de sua utilização, pode encontrar documentação em: https://api.demo.konkerlabs.net .\n",
    "\n",
    "Vamos começar listando os dispositivos registrados no seu usuário."
   ]
  },
  {
   "cell_type": "code",
   "execution_count": null,
   "metadata": {},
   "outputs": [],
   "source": [
    "devices = oauth.get(\"https://api.demo.konkerlabs.net/v1/{}/devices/\".format(application)).json()['result']\n",
    "for dev in devices:\n",
    "    print(dev)"
   ]
  },
  {
   "cell_type": "markdown",
   "metadata": {},
   "source": [
    "Vamos procurar pelo dispositivo Termometro e Machine_Learning na sua lista de dispositivos:"
   ]
  },
  {
   "cell_type": "code",
   "execution_count": null,
   "metadata": {},
   "outputs": [],
   "source": [
    "guid_ml=\"\"\n",
    "guid_term=\"\"\n",
    "for dev in devices:\n",
    "    if dev['name'] == termometro_name:\n",
    "        guid_term = dev['guid']\n",
    "    elif dev['name'] == ML_name:\n",
    "        guid_ml = dev['guid']\n",
    "\n",
    "print(\"O GUID do dispositivo Termômetro é: \"+ guid_term)\n",
    "print(\"O GUID do dispositivo Machine Learning é: \"+ guid_ml)"
   ]
  },
  {
   "cell_type": "markdown",
   "metadata": {},
   "source": [
    "Caso você consiga ver o GUID dos dois dispositivos, significa que está tudo funcionando bem. Caso algum dos GUIDs não apareça, revise o nome do dispositivo no Notebook e o nome escolhido na plataforma para garantir que eles possuem a mesma grafia."
   ]
  },
  {
   "cell_type": "markdown",
   "metadata": {},
   "source": [
    "Agora vamos usar a API para pegar os dados enviados pelo dispositivo termômetro hoje. Caso você tenha escolhido outro canal para envio dos dados, por favor modifique a variável canal na próxima célula."
   ]
  },
  {
   "cell_type": "code",
   "execution_count": null,
   "metadata": {},
   "outputs": [],
   "source": [
    "canal = 'temperatura'\n",
    "dt_start = arrow.utcnow().to('America/Sao_Paulo').floor('day')\n",
    "dt_start = dt_start.shift(days=-10)\n",
    "stats = oauth.get(\"https://api.demo.konkerlabs.net/v1/{}/incomingEvents?q=device:{} channel:{} timestamp:>{}&sort=oldest&limit=10000\".format(application,guid_term,canal,dt_start.isoformat())).json()['result']\n",
    "print(stats)"
   ]
  },
  {
   "cell_type": "markdown",
   "metadata": {},
   "source": [
    "Caso tudo tenha funcionado como esperado, você deve estar vendo seus dados de temperatura logo acima. Para facilitar a visualização e análise dos dados, podemos transformar em um formato tabular com o Pandas."
   ]
  },
  {
   "cell_type": "code",
   "execution_count": null,
   "metadata": {},
   "outputs": [],
   "source": [
    "from pandas.io.json import json_normalize\n",
    "stats_df = json_normalize(stats).set_index('timestamp')\n",
    "stats_df = stats_df[3:]\n",
    "stats_df"
   ]
  },
  {
   "cell_type": "markdown",
   "metadata": {},
   "source": [
    "Ótimo! Agora os dados estão em um formato mais fácil de ler. Mas podemos também fazer um gráfico bem simples!"
   ]
  },
  {
   "cell_type": "code",
   "execution_count": null,
   "metadata": {},
   "outputs": [],
   "source": [
    "%matplotlib inline\n",
    "import matplotlib.pyplot as plt\n",
    "plt.figure(figsize=(15,4))\n",
    "\n",
    "stats_df['payload.value'].plot();"
   ]
  },
  {
   "cell_type": "markdown",
   "metadata": {},
   "source": [
    "**O gráfico acima ilustra corretamente seu experimento? Descreva abaixo as características esperadas e se de fato elas foram observadas no gráfico**"
   ]
  },
  {
   "cell_type": "markdown",
   "metadata": {},
   "source": [
    "----> Escreva nessa célula <----"
   ]
  },
  {
   "cell_type": "markdown",
   "metadata": {},
   "source": [
    "Agora começa a parte final desse trabalho. Vamos rodar um algoritmo conhecido com KMeans de aprendizado não supervisionado tentando encontrar os dois clusters que melhor separam nosso dataset. Como você pode observar abaixo, estamos usando a biblioteca SKLearn do Python para isso."
   ]
  },
  {
   "cell_type": "code",
   "execution_count": null,
   "metadata": {},
   "outputs": [],
   "source": [
    "from sklearn.cluster import KMeans\n",
    "kmeans = KMeans(n_clusters=2)\n",
    "kmeans.fit(stats_df['payload.value'].values.reshape(-1, 1))"
   ]
  },
  {
   "cell_type": "markdown",
   "metadata": {},
   "source": [
    "Nós colocamos como condição a separação em 2 clusters. Vamos ver qual a previsão feita sobre os dados adquiridos:"
   ]
  },
  {
   "cell_type": "code",
   "execution_count": null,
   "metadata": {},
   "outputs": [],
   "source": [
    "predictions = kmeans.predict(stats_df['payload.value'].values.reshape(-1, 1))\n",
    "predictions"
   ]
  },
  {
   "cell_type": "markdown",
   "metadata": {},
   "source": [
    "Vamos observar a temperatura média do primeiro cluster de dados (grupo 0):"
   ]
  },
  {
   "cell_type": "code",
   "execution_count": null,
   "metadata": {},
   "outputs": [],
   "source": [
    "print('Temperatura média do grupo 0: ' + str(stats_df.loc[predictions == 0]['payload.value'].mean()) + ' C')"
   ]
  },
  {
   "cell_type": "markdown",
   "metadata": {},
   "source": [
    "E agora a temperatura média do segundo cluster (grupo 1):"
   ]
  },
  {
   "cell_type": "code",
   "execution_count": null,
   "metadata": {},
   "outputs": [],
   "source": [
    "print('Temperatura média do grupo 1: ' + str(stats_df.loc[predictions == 1]['payload.value'].mean()) + ' C')"
   ]
  },
  {
   "cell_type": "markdown",
   "metadata": {},
   "source": [
    "**Escreva abaixo qual dos dois grupos parece representar melhor a temperatura ambiente**"
   ]
  },
  {
   "cell_type": "markdown",
   "metadata": {},
   "source": [
    "----> Escreva nessa célula <---- "
   ]
  },
  {
   "cell_type": "markdown",
   "metadata": {},
   "source": [
    "Vamos ver agora como se comportam os dois clusters encontrados em um gráfico. \n",
    "\n",
    "Nota: Nessa segunda versão do Notebook estou usando a biblioteca Bokeh para tentar evitar o gargalo em processamento gerado pelo Matplotlib na sala de aula. Caso você ainda encontre problemas em gerar o gráfico, por favor me envie um email em luis@konkerlabs.com"
   ]
  },
  {
   "cell_type": "code",
   "execution_count": null,
   "metadata": {},
   "outputs": [],
   "source": [
    "from bokeh.io import output_notebook, show\n",
    "from bokeh.plotting import figure\n",
    "import pandas as pd\n",
    "output_notebook()"
   ]
  },
  {
   "cell_type": "code",
   "execution_count": null,
   "metadata": {},
   "outputs": [],
   "source": [
    "p = figure(plot_width=820, plot_height=400, x_axis_type=\"datetime\",\n",
    "           title=\"Clusters de temperatura encontrados pelo método KMeans\",\n",
    "           x_axis_label='Tempo', \n",
    "           y_axis_label='Temperatura [Celsius]')\n",
    "\n",
    "p.title.text_font_size = '18pt'\n",
    "p.xaxis.axis_label_text_font_size = \"14pt\"\n",
    "p.yaxis.axis_label_text_font_size = \"14pt\"\n",
    "\n",
    "x = np.array(pd.to_datetime(stats_df.index))\n",
    "y = np.array(stats_df['payload.value'])\n",
    "n_y = np.multiply(np.array(stats_df['payload.value']),predictions)\n",
    "n_y = np.clip(n_y,np.min(y),np.max(y))\n",
    "\n",
    "# add a line renderer\n",
    "p.line(x, y, line_width=2)\n",
    "p.patch(x,n_y,color=\"red\",alpha = 0.5,line_width=0)\n",
    "\n",
    "show(p) # show the results"
   ]
  },
  {
   "cell_type": "markdown",
   "metadata": {},
   "source": [
    "Observe que em momento algum você precisou escolher um threshold para a divisão entre os clusters de temperatura. Muito embora esses dados representem coisas muito bem conhecidas, elas poderiam representar a situação normal de trabalho de uma máquina e a situação de superaquecimento."
   ]
  },
  {
   "cell_type": "markdown",
   "metadata": {},
   "source": [
    "Agora vamos usar o modelo gerado pelo KMeans para criar um dispositivo virtual que classifique cada dado como \"temperatura humana\" e \"temperatura ambiente\". Tipicamente em um sistema de IoT em produção, essa função não seria feita por um dispositivo virtual e sim por uma aplicação rodando na nuvem. A ideia aqui é apenas ilustrar esse processo usando as ferramentas mais simples da plataforma.\n",
    "\n",
    "Para iniciar o processo, vamos criar algumas funções para nos ajudar:"
   ]
  },
  {
   "cell_type": "code",
   "execution_count": null,
   "metadata": {},
   "outputs": [],
   "source": [
    "import paho.mqtt.client as mqtt\n",
    "import random\n",
    "import time\n",
    "\n",
    "def on_connect(mqttc, a, userdata, rc):\n",
    "    global termometro_username\n",
    "    print(\"Connected with result code \"+str(rc))\n",
    "    mqttc.subscribe(\"sub/\" + led_username + \"/led\")\n",
    "       \n",
    "def on_message(mqttc, userdata, msg):\n",
    "    json_data = msg.payload.decode('utf-8')\n",
    "    temperature = json.loads(json_data)['value']\n",
    "    print(float(temperature))\n",
    "    if (float(temperature)>30.0):\n",
    "        print('Mensagem recebida! Estado dos LEDS virtuais = [1,1,1]')\n",
    "    elif (float(temperature)>20.0):\n",
    "        print('Mensagem recebida! Estado dos LEDS virtuais = [1,1,0]')\n",
    "    elif (float(temperature)>10.0):\n",
    "        print('Mensagem recebida! Estado dos LEDS virtuais = [1,0,0]')\n",
    "    else:\n",
    "        print('Mensagem recebida! Estado dos LEDS virtuais = [0,0,0]')\n",
    "        \n",
    "def on_connect_ml(mqttc, a, userdata, rc):\n",
    "    global ML_username\n",
    "    print(\"Connected with result code \"+str(rc))\n",
    "    mqttc.subscribe(\"sub/\" + ML_username + \"/in\")\n",
    "       \n",
    "def on_message_ml(mqttc, userdata, msg):\n",
    "    global kmeans\n",
    "    global ML_username\n",
    "    json_data = msg.payload.decode('utf-8')\n",
    "    temperature = json.loads(json_data)['value']\n",
    "    pred = kmeans.predict(temperature)[0]\n",
    "    if (pred==0):\n",
    "        send = 15.0\n",
    "    elif (pred==1):\n",
    "        send = 100.0\n",
    "    mqttc.publish(\"pub/\" + ML_username + \"/out\", json.dumps({\"deviceId\":\"My_favorite_ML_Model\", \"metric\": \"Model_Output\", \"value\": send}))\n",
    "\n",
    "def publicar_temperatura(mqttc_term):\n",
    "    for i in range(0,25):\n",
    "        mqttc_term.publish(\"pub/\" + termometro_username + \"/temperatura\", json.dumps({\"deviceId\":\"My_favorite_thermometer\", \"metric\": \"Celsius\", \"value\": float(\"{0:.2f}\".format(random.gauss(25,0.5)))}))\n",
    "        time.sleep(1)\n",
    "    for i in range(0,25):\n",
    "        mqttc_term.publish(\"pub/\" + termometro_username + \"/temperatura\", json.dumps({\"deviceId\":\"My_favorite_thermometer\", \"metric\": \"Celsius\", \"value\": float(\"{0:.2f}\".format(random.gauss(32,0.5)))}))\n",
    "        time.sleep(1)\n",
    "    for i in range(0,25):\n",
    "        mqttc_term.publish(\"pub/\" + termometro_username + \"/temperatura\", json.dumps({\"deviceId\":\"My_favorite_thermometer\", \"metric\": \"Celsius\", \"value\": float(\"{0:.2f}\".format(random.gauss(25,0.5)))}))\n",
    "        time.sleep(1)"
   ]
  },
  {
   "cell_type": "markdown",
   "metadata": {},
   "source": [
    "A função **on_message_ml** recebe as mensagens contendo a temperatura e usa esse valor como entrada no modelo gerado pelo KMeans. Caso a saída do modelo seja no cluster 0, será enviada uma mensagem para o canal **out** contendo o valor 15.0. Caso a saída seja cluster 1, será enviada uma mensagem contendo o valor 100.0. Esses valores foram arbitrariamente escolhidos para manter compatibilidade com o Software do Dispositivo LED, que no primeiro valor acenderá um LED e no segundo valor acenderá os 3 LEDs."
   ]
  },
  {
   "cell_type": "markdown",
   "metadata": {},
   "source": [
    "Agora precisamos criar as rotas entre os dispositivos na plataforma. Vamos começar editando a rota que havíamos criado: nela, modifique o **Outgoing Device** para o dispositivo **Machine_Learning** e o **Outgoing Channel** para **in**.\n",
    "\n",
    "Agora você deve criar uma nova rota com nome de sua preferência, colocando o **Income Device** como o seu dispositivo **Machine_Learning** e o seu **Outgoing Device** como seu dispositivo LED. Coloque **out** como o seu **Income Channel** e, caso seu dispositivo LED esteja subscrevendo no canal **led**, esse será o seu **Outgoing Channel**. Esses são os canais que definimos no início do arquivo.\n",
    "\n",
    "Se tudo estiver correto, podemos agora ativar nosso dispositivo virtual e observar as mensagens trafegando pela plataforma.\n",
    "\n",
    "Nota: Nessa segunda versão do Notebook, são criados os 3 dispositivos virtuais (LED, Termômetro e ML) de forma que vocês possam testar em casa o resultado. Vocês também podem inserir algum dispositivo real nesse teste: por exemplo se quiserem usar hardware termistor, basta comentar as linhas iniciadas em **mqttc_term** antes de rodar o código abaixo e enviar os dados reais do termistor para a plataforma. Você receberá um feedback do estado dos seus LED \"virtuais\" no notebook. Por outro lado, se quiser usar o LED de hardware, basta comentar as linhas iniciadas em **mqttc_led** e manter o seu dispositivo de hardware conectado na plataforma.\n",
    "\n",
    "**Nota Importante**: Caso você receba mais do que duas mensagens: **Connected with result code 0**, significa que ocorreu algo errado com sua conexão MQTT e ela está sofrendo reconexões. Caso isso ocorra, por favor reinicie o Kernel do seu notebook, clicando em **Restart** no menu **Kernel**."
   ]
  },
  {
   "cell_type": "code",
   "execution_count": null,
   "metadata": {},
   "outputs": [],
   "source": [
    "mqttc_ml = mqtt.Client(ML_username)\n",
    "mqttc_ml.username_pw_set(ML_username, ML_password)\n",
    "mqttc_ml.on_message = on_message_ml\n",
    "mqttc_ml.on_connect = on_connect_ml\n",
    "mqttc_ml.loop_stop(force=True)\n",
    "mqttc_ml.disconnect()\n",
    "time.sleep(2)\n",
    "mqttc_ml.connect(\"mqtt.demo.konkerlabs.net\", 1883)\n",
    "mqttc_ml.loop_start()\n",
    "\n",
    "mqttc_term = mqtt.Client(termometro_username)\n",
    "mqttc_term.username_pw_set(termometro_username, termometro_password)\n",
    "mqttc_term.loop_stop(force=True)\n",
    "mqttc_term.disconnect()\n",
    "time.sleep(2)\n",
    "mqttc_term.connect(\"mqtt.demo.konkerlabs.net\", 1883)\n",
    "mqttc_term.loop_start()\n",
    "\n",
    "mqttc_led = mqtt.Client(led_username)\n",
    "mqttc_led.username_pw_set(led_username, led_password)\n",
    "mqttc_led.on_message = on_message\n",
    "mqttc_led.on_connect = on_connect\n",
    "mqttc_led.loop_stop(force=True)\n",
    "mqttc_led.disconnect()\n",
    "time.sleep(2)\n",
    "mqttc_led.connect(\"mqtt.demo.konkerlabs.net\", 1883)\n",
    "mqttc_led.loop_start()"
   ]
  },
  {
   "cell_type": "markdown",
   "metadata": {},
   "source": [
    "**Caso você esteja usando o Kit de Hardware: Qual comportamento você observa no dispositivo LED quando segura o Termistor?**"
   ]
  },
  {
   "cell_type": "markdown",
   "metadata": {},
   "source": [
    "----> Escreva nessa célula <----"
   ]
  },
  {
   "cell_type": "markdown",
   "metadata": {},
   "source": [
    "Caso você esteja usando o termômetro virtual, precisaremos ativa-lo mais uma vez:"
   ]
  },
  {
   "cell_type": "code",
   "execution_count": null,
   "metadata": {},
   "outputs": [],
   "source": [
    "publicar_temperatura(mqttc_term)"
   ]
  },
  {
   "cell_type": "markdown",
   "metadata": {},
   "source": [
    "**Se você está usando o dispositivo virtual: Qual o comportamento observado na resposta dos LEDs simulados?**"
   ]
  },
  {
   "cell_type": "markdown",
   "metadata": {},
   "source": [
    "----> Escreva nessa célula <---- "
   ]
  },
  {
   "cell_type": "markdown",
   "metadata": {},
   "source": [
    "### Esse é o fim dessa atividade. Espero que tenham gostado e que esses procedimentos simples possam dispertar novas ideias para o uso de IoT em problemas reais."
   ]
  }
 ],
 "metadata": {
  "kernelspec": {
   "display_name": "Python 3",
   "language": "python",
   "name": "python3"
  },
  "language_info": {
   "codemirror_mode": {
    "name": "ipython",
    "version": 3
   },
   "file_extension": ".py",
   "mimetype": "text/x-python",
   "name": "python",
   "nbconvert_exporter": "python",
   "pygments_lexer": "ipython3",
   "version": "3.5.2"
  }
 },
 "nbformat": 4,
 "nbformat_minor": 2
}
