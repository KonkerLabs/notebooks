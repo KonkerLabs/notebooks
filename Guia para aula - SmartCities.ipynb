{
 "cells": [
  {
   "cell_type": "markdown",
   "metadata": {},
   "source": [
    "# Guia para a aula de Smart Cities\n",
    "\n",
    "Nesse guia trataremos passo a passo a conexão de um dispositivo com a plataforma Konker.\n",
    "Para seguir esse roteiro, você precisará de uma conta na Konker, que pode ser criada em https://demo.konkerlabs.net/ e, caso deseje trabalhar com o kit disponibilizado para vocês, será necessário baixar a Arduino IDE e adicionar o suporte a placa de desenvolvimento **NodeMCU**, além de instalar as bibliotecas **PubSubClient** e **ArduinoJSON**. Um guia de instalação da placa pode ser visto na referência https://www.filipeflop.com/blog/programar-nodemcu-com-ide-arduino/ enquanto a instalação das bibliotecas pode ser feita sem dificuldades buscando pelo nome das mesmas na caixa aberta ao selecionar o menu **Sketch** -> **Incluir Biblioteca** -> **Gerenciar Bibliotecas**.\n",
    "\n",
    "**Independente da sua escolha, por favor siga o procedimento do notebook e lembre-se de salvar suas alterações (o atalho Ctrl+s funciona), pois sua avaliação será feita com base nele.**"
   ]
  },
  {
   "cell_type": "markdown",
   "metadata": {},
   "source": [
    "Vamos iniciar nosso notebook chamando todas as bibliotecas que usaremos. Caso você esteja rodando no Google Colab, nessa etapa, nada precisa ser modificado. Caso você esteja rodando em um Jupyter local, por favor comente a primeira linha."
   ]
  },
  {
   "cell_type": "code",
   "execution_count": null,
   "metadata": {},
   "outputs": [],
   "source": [
    "!pip install arrow bokeh paho.mqtt\n",
    "from oauthlib.oauth2 import BackendApplicationClient\n",
    "from requests_oauthlib import OAuth2Session\n",
    "import pprint\n",
    "import numpy as np\n",
    "import arrow\n",
    "import requests                                                                                                                                                                                 \n",
    "import json                                                                                                                                                                                     \n",
    "from threading import Timer"
   ]
  },
  {
   "cell_type": "markdown",
   "metadata": {},
   "source": [
    "O próximo passo é definir os endereços que serão usados para consultar e enviar os dados. Nessa etapa ainda não é necessário fazer modificações."
   ]
  },
  {
   "cell_type": "code",
   "execution_count": null,
   "metadata": {},
   "outputs": [],
   "source": [
    "#Url de publicacao dos dados\n",
    "pub_url = 'https://data.demo.konkerlabs.net/pub/'\n",
    "#Url da API\n",
    "base_api = 'https://api.demo.konkerlabs.net'\n",
    "#Application padrão\n",
    "application = 'default'"
   ]
  },
  {
   "cell_type": "markdown",
   "metadata": {},
   "source": [
    "Agora vamos colocar em duas variáveis o seu usuário e senha da plataforma:"
   ]
  },
  {
   "cell_type": "code",
   "execution_count": null,
   "metadata": {},
   "outputs": [],
   "source": [
    "username = ''\n",
    "password = ''"
   ]
  },
  {
   "cell_type": "markdown",
   "metadata": {},
   "source": [
    "O próximo passo é criar 2 dispositivos dentro de sua conta na Konker. Um deles será o dispositivo **LED**, outro será o **Termometro**. Você pode criar os dispositivos com o nome de sua preferência, lembre-se apenas de modificar nas funções abaixo para o nome adequado.\n",
    "Quando você criar o dispositivo, clique em **Connect** -> **Generate Password** e coloque as credenciais de ambos os dispositivos nas variáveis abaixo:"
   ]
  },
  {
   "cell_type": "code",
   "execution_count": 1,
   "metadata": {},
   "outputs": [],
   "source": [
    "led_name = \"led\"\n",
    "led_username = \"\"\n",
    "led_password = \"\"\n",
    "\n",
    "termometro_name = \"termometro\"\n",
    "termometro_username = \"\"\n",
    "termometro_password = \"\""
   ]
  },
  {
   "cell_type": "markdown",
   "metadata": {},
   "source": [
    "Nesse momento, precisaremos fazer uma divisão no procedimento: caso você esteja fazendo essa aula com o kit de hardware, siga os procedimentos sob o título **Usando o Kit de Hardware** e caso você esteja fora da aula fazendo o procedimento simulado, siga o procedimento **Usando dispositivos simulados**."
   ]
  },
  {
   "cell_type": "markdown",
   "metadata": {},
   "source": [
    "## Usando o Kit de Hardware\n",
    "Esse é o momento de você baixar o código dos dispositivos disponível em nosso GitHub: https://github.com/KonkerLabs/arduino_examples. Você deve baixar o código do **LED_Device_MQTT** e **Termometro_MQTT**. Depois de baixar o código, abra primeiramente o código do Termometro na Arduino IDE e mude os parâmetros de rede Wifi, canal de publicação (minha sugestão é usar *temperatura*) credenciais do dispositivo. Dica: você acabou de escrever essas credenciais nas variáveis acima como \"cola\" para esse momento, pois elas não serão usadas no notebook :-).\n",
    "\n",
    "Agora é hora de montar o seu termômetro!\n",
    "Basta seguir a ilustração abaixo:\n",
    "![term](https://raw.githubusercontent.com/KonkerLabs/arduino_examples/master/Termometro_MQTT/term.jpg \"Termômetro\")\n",
    "\n",
    "Com o dispositivo montado, o próximo passo é compilar e gravar o Firmware. Lembre-se de mudar a board na Arduino IDE para **NodeMCU v1.0** e escolher a porta de comunicação correta para o dispositivo (tipicamente /dev/USB0 no Linux e COM4 no Windows).\n",
    "\n",
    "Caso tudo tenha dado certo até o momento, você começará a observar os dados sendo enviados para a plataforma. Entre na Guia de Devices e procure Messages do seu dispositivo termômetro. Você deve ver os dados de temperatura chegando na Plataforma!"
   ]
  },
  {
   "cell_type": "markdown",
   "metadata": {},
   "source": [
    "**Segure o termistor com seus dedos até a temperatura estabilizar. Veja a temperatura aumentar no gráfico.**"
   ]
  },
  {
   "cell_type": "markdown",
   "metadata": {},
   "source": [
    "Agora vamos trabalhar com rotas entre dois dispositivos. Para tornar essa atividade mais interativa, escolha uma dupla na sala de aula. Um de vocês precisará montar agora o dispositivo LED. Vocês receberam 2 protoboards para ter a opção de montar os dois dispositivos ao mesmo tempo: basta colocar cada protoboard em um dos lados do NodeMCU.\n",
    "\n",
    "O dispositivo LED deve ser montado seguindo o diagrama abaixo:\n",
    "\n",
    "![term](https://raw.githubusercontent.com/KonkerLabs/arduino_examples/master/LED_Device_MQTT/leds.jpg \"Termômetro\")\n",
    "\n",
    "O próximo passo é conectar o dispositivo na plataforma usando as credenciais do dispositivo LED (use a cola acima), o canal que ele irá subscrever (minha sugestão é usar *led*) e criar uma rota entre os dispositivos termômetro e LED. Para isso entre na aba **Event Routes** e clique em **New** do lado direito superior.\n",
    "\n",
    "A rota pode ser criada com o número de sua preferência, lembrando apenas de colocar o **Income Device** como o seu dispositivo termômetro e o seu **Outgoing Device** como seu dispositivo LED. Caso você tenha usado o canal de envio **temperatura** esse será o seu **Income Channel** da mesma forma que caso seu dispositivo LED esteja subscrevendo no canal **led**, esse será o seu **Outgoing Channel**.\n",
    "\n",
    "Caso tudo tenha funcionado, você deve estar vendo as mensagens do termômetro chegarem no dispositivo LED."
   ]
  },
  {
   "cell_type": "markdown",
   "metadata": {},
   "source": [
    "Bem interessante, mas como você pode ver, uma abordagem assim tem um problema fundamental: ela só funciona quando você conhece quais as temperaturas que você está discriminando, nesse caso ambiente versus temperatura do corpo humano. Caso o problema fosse sobre coisas desconhecidas, como discriminar entre a temperatura normal de trabalho de uma turbina CFM56-3B-1 e dela superaquecida, essa técnica não funcionaria. Para isso temos técnicas de separação que podem aprender de forma não supervisionada com o seu dataset, como a técnica de KMeans que mostraremos no decorrer do notebook."
   ]
  },
  {
   "cell_type": "markdown",
   "metadata": {},
   "source": [
    "## Usando a API\n",
    "Para iniciar esse trabalho, vamos primeiro conectar na API da Konker. A API usa OAuth2, então primeiro vamos obter as credenciais."
   ]
  },
  {
   "cell_type": "code",
   "execution_count": null,
   "metadata": {},
   "outputs": [],
   "source": [
    "client = BackendApplicationClient(client_id=username)\n",
    "oauth = OAuth2Session(client=client)\n",
    "token = oauth.fetch_token(token_url='{}/v1/oauth/token'.format(base_api),\n",
    "                                       client_id=username,\n",
    "                                       client_secret=password)"
   ]
  },
  {
   "cell_type": "markdown",
   "metadata": {},
   "source": [
    "Ótimo! Agora nos podemos começar a usar a API. Caso você queira mais detalhes de sua utilização, pode encontrar documentação em: https://api.demo.konkerlabs.net .\n",
    "\n",
    "Vamos começar listando os dispositivos registrados no seu usuário."
   ]
  },
  {
   "cell_type": "code",
   "execution_count": null,
   "metadata": {},
   "outputs": [],
   "source": [
    "devices = oauth.get(\"https://api.demo.konkerlabs.net/v1/{}/devices/\".format(application)).json()['result']\n",
    "for dev in devices:\n",
    "    print(dev)"
   ]
  },
  {
   "cell_type": "markdown",
   "metadata": {},
   "source": [
    "Vamos procurar pelo dispositivo Termometro e Machine_Learning na sua lista de dispositivos:"
   ]
  },
  {
   "cell_type": "code",
   "execution_count": null,
   "metadata": {},
   "outputs": [],
   "source": [
    "guid_ml=\"\"\n",
    "guid_term=\"\"\n",
    "for dev in devices:\n",
    "    if dev['name'] == termometro_name:\n",
    "        guid_term = dev['guid']\n",
    "    elif dev['name'] == ML_name:\n",
    "        guid_ml = dev['guid']\n",
    "\n",
    "print(\"O GUID do dispositivo Termômetro é: \"+ guid_term)\n",
    "print(\"O GUID do dispositivo Machine Learning é: \"+ guid_ml)"
   ]
  },
  {
   "cell_type": "markdown",
   "metadata": {},
   "source": [
    "Caso você consiga ver o GUID dos dois dispositivos, significa que está tudo funcionando bem. Caso algum dos GUIDs não apareça, revise o nome do dispositivo no Notebook e o nome escolhido na plataforma para garantir que eles possuem a mesma grafia."
   ]
  },
  {
   "cell_type": "markdown",
   "metadata": {},
   "source": [
    "Agora vamos usar a API para pegar os dados enviados pelo dispositivo termômetro hoje. Caso você tenha escolhido outro canal para envio dos dados, por favor modifique a variável canal na próxima célula."
   ]
  },
  {
   "cell_type": "code",
   "execution_count": null,
   "metadata": {},
   "outputs": [],
   "source": [
    "canal = 'temperatura'\n",
    "dt_start = arrow.utcnow().to('America/Sao_Paulo').floor('day')\n",
    "dt_start = dt_start.shift(days=-10)\n",
    "stats = oauth.get(\"https://api.demo.konkerlabs.net/v1/{}/incomingEvents?q=device:{} channel:{} timestamp:>{}&sort=oldest&limit=10000\".format(application,guid_term,canal,dt_start.isoformat())).json()['result']\n",
    "print(stats)"
   ]
  },
  {
   "cell_type": "markdown",
   "metadata": {},
   "source": [
    "Caso tudo tenha funcionado como esperado, você deve estar vendo seus dados de temperatura logo acima. Para facilitar a visualização e análise dos dados, podemos transformar em um formato tabular com o Pandas."
   ]
  },
  {
   "cell_type": "code",
   "execution_count": null,
   "metadata": {},
   "outputs": [],
   "source": [
    "from pandas.io.json import json_normalize\n",
    "stats_df = json_normalize(stats).set_index('timestamp')\n",
    "stats_df = stats_df[3:]\n",
    "stats_df"
   ]
  },
  {
   "cell_type": "markdown",
   "metadata": {},
   "source": [
    "Ótimo! Agora os dados estão em um formato mais fácil de ler. Mas podemos também fazer um gráfico bem simples!"
   ]
  },
  {
   "cell_type": "code",
   "execution_count": null,
   "metadata": {},
   "outputs": [],
   "source": [
    "%matplotlib inline\n",
    "import matplotlib.pyplot as plt\n",
    "plt.figure(figsize=(15,4))\n",
    "\n",
    "stats_df['payload.value'].plot();"
   ]
  },
  {
   "cell_type": "markdown",
   "metadata": {},
   "source": [
    "**O gráfico acima ilustra corretamente seu experimento? Você consegue ver a subida de temperatura?**"
   ]
  },
  {
   "cell_type": "markdown",
   "metadata": {},
   "source": [
    "Agora começa a parte final desse trabalho. Vamos rodar um algoritmo conhecido com KMeans de aprendizado não supervisionado tentando encontrar os dois clusters que melhor separam nosso dataset. Como você pode observar abaixo, estamos usando a biblioteca SKLearn do Python para isso."
   ]
  },
  {
   "cell_type": "code",
   "execution_count": null,
   "metadata": {},
   "outputs": [],
   "source": [
    "from sklearn.cluster import KMeans\n",
    "kmeans = KMeans(n_clusters=2)\n",
    "kmeans.fit(stats_df['payload.value'].values.reshape(-1, 1))"
   ]
  },
  {
   "cell_type": "markdown",
   "metadata": {},
   "source": [
    "Nós colocamos como condição a separação em 2 clusters. Vamos ver qual a previsão feita sobre os dados adquiridos:"
   ]
  },
  {
   "cell_type": "code",
   "execution_count": null,
   "metadata": {},
   "outputs": [],
   "source": [
    "predictions = kmeans.predict(stats_df['payload.value'].values.reshape(-1, 1))\n",
    "predictions"
   ]
  },
  {
   "cell_type": "markdown",
   "metadata": {},
   "source": [
    "Vamos observar a temperatura média do primeiro cluster de dados (grupo 0):"
   ]
  },
  {
   "cell_type": "code",
   "execution_count": null,
   "metadata": {},
   "outputs": [],
   "source": [
    "print('Temperatura média do grupo 0: ' + str(stats_df.loc[predictions == 0]['payload.value'].mean()) + ' C')"
   ]
  },
  {
   "cell_type": "markdown",
   "metadata": {},
   "source": [
    "E agora a temperatura média do segundo cluster (grupo 1):"
   ]
  },
  {
   "cell_type": "code",
   "execution_count": null,
   "metadata": {},
   "outputs": [],
   "source": [
    "print('Temperatura média do grupo 1: ' + str(stats_df.loc[predictions == 1]['payload.value'].mean()) + ' C')"
   ]
  },
  {
   "cell_type": "markdown",
   "metadata": {},
   "source": [
    "Vamos ver agora como se comportam os dois clusters encontrados em um gráfico. \n",
    "\n",
    "Nota: Nessa segunda versão do Notebook estou usando a biblioteca Bokeh para tentar evitar o gargalo em processamento gerado pelo Matplotlib na sala de aula. Caso você ainda encontre problemas em gerar o gráfico, por favor me envie um email em luis@konkerlabs.com"
   ]
  },
  {
   "cell_type": "code",
   "execution_count": null,
   "metadata": {},
   "outputs": [],
   "source": [
    "from bokeh.io import output_notebook, show\n",
    "from bokeh.plotting import figure\n",
    "import pandas as pd\n",
    "output_notebook()"
   ]
  },
  {
   "cell_type": "code",
   "execution_count": null,
   "metadata": {},
   "outputs": [],
   "source": [
    "p = figure(plot_width=820, plot_height=400, x_axis_type=\"datetime\",\n",
    "           title=\"Clusters de temperatura encontrados pelo método KMeans\",\n",
    "           x_axis_label='Tempo', \n",
    "           y_axis_label='Temperatura [Celsius]')\n",
    "\n",
    "p.title.text_font_size = '18pt'\n",
    "p.xaxis.axis_label_text_font_size = \"14pt\"\n",
    "p.yaxis.axis_label_text_font_size = \"14pt\"\n",
    "\n",
    "x = np.array(pd.to_datetime(stats_df.index))\n",
    "y = np.array(stats_df['payload.value'])\n",
    "n_y = np.multiply(np.array(stats_df['payload.value']),predictions)\n",
    "n_y = np.clip(n_y,np.min(y),np.max(y))\n",
    "\n",
    "p.line(x, y, line_width=2)\n",
    "p.patch(x,n_y,color=\"red\",alpha = 0.5,line_width=0)\n",
    "\n",
    "show(p)"
   ]
  },
  {
   "cell_type": "markdown",
   "metadata": {},
   "source": [
    "Observe que em momento algum você precisou escolher um threshold para a divisão entre os clusters de temperatura. Muito embora esses dados representem coisas muito bem conhecidas, elas poderiam representar a situação normal de trabalho de uma máquina e a situação de superaquecimento."
   ]
  }
 ],
 "metadata": {
  "kernelspec": {
   "display_name": "Python 3",
   "language": "python",
   "name": "python3"
  },
  "language_info": {
   "codemirror_mode": {
    "name": "ipython",
    "version": 3
   },
   "file_extension": ".py",
   "mimetype": "text/x-python",
   "name": "python",
   "nbconvert_exporter": "python",
   "pygments_lexer": "ipython3",
   "version": "3.5.3"
  }
 },
 "nbformat": 4,
 "nbformat_minor": 2
}
